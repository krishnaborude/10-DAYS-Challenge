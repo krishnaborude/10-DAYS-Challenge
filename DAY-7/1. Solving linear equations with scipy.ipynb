{
 "cells": [
  {
   "cell_type": "markdown",
   "metadata": {},
   "source": [
    "## 🔹 Solving Linear Equations with scipy.linalg\n",
    "The scipy.linalg module provides several functions to solve systems of linear equations efficiently. The general form of a linear system is:"
   ]
  },
  {
   "cell_type": "markdown",
   "metadata": {},
   "source": [
    "AX=B"
   ]
  },
  {
   "cell_type": "markdown",
   "metadata": {},
   "source": [
    "where:\n",
    "\n",
    "\n",
    "* A is an n×n coefficient matrix.\n",
    "\n",
    "\n",
    "* X is the unknown variable matrix.\n",
    "\n",
    "\n",
    "* B is the constant matrix (or vector)."
   ]
  },
  {
   "cell_type": "markdown",
   "metadata": {},
   "source": [
    "## 1️⃣ Direct Solution: scipy.linalg.solve\n",
    "The function scipy.linalg.solve(A, B) computes the exact solution of a square system using LU decomposition."
   ]
  },
  {
   "cell_type": "code",
   "execution_count": 5,
   "metadata": {},
   "outputs": [
    {
     "name": "stdout",
     "output_type": "stream",
     "text": [
      "[0.8 1.3]\n"
     ]
    }
   ],
   "source": [
    "import numpy as np\n",
    "from scipy.linalg import solve\n",
    "\n",
    "# Define coefficient matrix A and constant matrix B\n",
    "A = np.array([[3, 2], [1, 4]])\n",
    "B = np.array([5, 6])\n",
    "\n",
    "# Solve for X\n",
    "X = solve(A, B)\n",
    "print(X)\n"
   ]
  },
  {
   "cell_type": "markdown",
   "metadata": {},
   "source": [
    "🔹 Internally:\n",
    "\n",
    "* SciPy performs LU decomposition (A = PLU).\n",
    "\n",
    "* It then solves the system using forward and backward substitution.\n",
    "\n",
    "* This is the most efficient way to solve small to medium-sized dense systems."
   ]
  },
  {
   "cell_type": "markdown",
   "metadata": {},
   "source": [
    "## 2️⃣ Solving Singular or Nearly Singular Systems: scipy.linalg.lstsq\n",
    "If \n",
    "𝐴 is singular (non-invertible) or overdetermined (more equations than unknowns), solve() fails. Instead, use Least Squares Solution:"
   ]
  },
  {
   "cell_type": "code",
   "execution_count": 6,
   "metadata": {},
   "outputs": [
    {
     "name": "stdout",
     "output_type": "stream",
     "text": [
      "[3. 1.]\n"
     ]
    }
   ],
   "source": [
    "from scipy.linalg import lstsq\n",
    "\n",
    "A = np.array([[1, 1], [1, -1], [2, 1]])  # Overdetermined system\n",
    "B = np.array([4, 2, 7])\n",
    "\n",
    "# Compute least squares solution\n",
    "X, residuals, rank, s = lstsq(A, B)\n",
    "print(X)\n"
   ]
  },
  {
   "cell_type": "markdown",
   "metadata": {},
   "source": [
    "🔹 Use cases:\n",
    "\n",
    "* When more equations than unknowns exist.\n",
    "\n",
    "* For ill-conditioned systems where solve() might fail."
   ]
  },
  {
   "cell_type": "markdown",
   "metadata": {},
   "source": [
    "## 3️⃣ Inverting a Matrix to Solve Equations: scipy.linalg.inv (Not Recommended)\n",
    " You can solve AX =B by computing X =A^¯1B, but this is numerically unstable."
   ]
  },
  {
   "cell_type": "code",
   "execution_count": null,
   "metadata": {},
   "outputs": [],
   "source": [
    "\n",
    "from scipy.linalg import inv\n",
    "\n",
    "A_inv = inv(A)\n",
    "X = A_inv @ B\n",
    "print(X)\n"
   ]
  },
  {
   "cell_type": "markdown",
   "metadata": {},
   "source": [
    "🚨 Why avoid this?\n",
    "\n",
    "* Matrix inversion is computationally expensive.\n",
    "\n",
    "* It introduces numerical instability.\n",
    "\n",
    "* solve(A, B) is faster and more accurate."
   ]
  },
  {
   "cell_type": "markdown",
   "metadata": {},
   "source": [
    "## 4️⃣ Solving Triangular Systems: scipy.linalg.solve_triangular\n",
    "If \n",
    "𝐴 is a triangular matrix (upper or lower), you can solve it faster."
   ]
  },
  {
   "cell_type": "code",
   "execution_count": 8,
   "metadata": {},
   "outputs": [
    {
     "name": "stdout",
     "output_type": "stream",
     "text": [
      "[2. 1.]\n"
     ]
    }
   ],
   "source": [
    "from scipy.linalg import solve_triangular\n",
    "\n",
    "A = np.array([[3, 0], [2, 1]])  # Lower triangular matrix\n",
    "B = np.array([6, 5])\n",
    "\n",
    "# Solve for X\n",
    "X = solve_triangular(A, B, lower=True)\n",
    "print(X)\n"
   ]
  },
  {
   "cell_type": "markdown",
   "metadata": {},
   "source": [
    "🔹 Why use this?\n",
    "\n",
    "* Faster than solve(), as it skips unnecessary computations.\n",
    "\n",
    "* Useful when working with Cholesky or LU decompositions."
   ]
  },
  {
   "cell_type": "markdown",
   "metadata": {},
   "source": [
    "## 5️⃣ Solving Sparse Linear Systems Efficiently\n",
    "For large sparse matrices, scipy.sparse.linalg is more efficient than scipy.linalg."
   ]
  },
  {
   "cell_type": "markdown",
   "metadata": {},
   "source": [
    "#### Example using GMRES solver (iterative)"
   ]
  },
  {
   "cell_type": "code",
   "execution_count": 9,
   "metadata": {},
   "outputs": [
    {
     "name": "stdout",
     "output_type": "stream",
     "text": [
      "[0.81818182 1.72727273]\n"
     ]
    }
   ],
   "source": [
    "from scipy.sparse.linalg import gmres\n",
    "from scipy.sparse import csr_matrix\n",
    "\n",
    "# Define sparse matrix A\n",
    "A_sparse = csr_matrix([[4, 1], [1, 3]])\n",
    "B = np.array([5, 6])\n",
    "\n",
    "# Solve using GMRES iterative method\n",
    "X, exitCode = gmres(A_sparse, B)\n",
    "print(X)\n"
   ]
  },
  {
   "cell_type": "markdown",
   "metadata": {},
   "source": [
    "🔹 Use when:\n",
    "\n",
    "* The matrix is large and sparse (most elements are zero).\n",
    "\n",
    "* You need an iterative method rather than direct decomposition."
   ]
  },
  {
   "cell_type": "markdown",
   "metadata": {},
   "source": [
    "## 6️⃣ Solving Symmetric Positive Definite Systems: scipy.linalg.cho_solve\n",
    "If \n",
    "𝐴 is symmetric and positive definite, using Cholesky decomposition is faster."
   ]
  },
  {
   "cell_type": "code",
   "execution_count": 10,
   "metadata": {},
   "outputs": [
    {
     "name": "stdout",
     "output_type": "stream",
     "text": [
      "[1. 1.]\n"
     ]
    }
   ],
   "source": [
    "from scipy.linalg import cho_factor, cho_solve\n",
    "\n",
    "A = np.array([[4, 2], [2, 3]])  # Symmetric positive definite matrix\n",
    "B = np.array([6, 5])\n",
    "\n",
    "# Compute Cholesky factorization\n",
    "L = cho_factor(A)\n",
    "\n",
    "# Solve using Cholesky factorization\n",
    "X = cho_solve(L, B)\n",
    "print(X)\n"
   ]
  },
  {
   "cell_type": "markdown",
   "metadata": {},
   "source": [
    "🔹 Why use this?\n",
    "\n",
    "* Faster than LU decomposition.\n",
    "\n",
    "* More numerically stable for positive definite matrices."
   ]
  }
 ],
 "metadata": {
  "kernelspec": {
   "display_name": "Python 3",
   "language": "python",
   "name": "python3"
  },
  "language_info": {
   "codemirror_mode": {
    "name": "ipython",
    "version": 3
   },
   "file_extension": ".py",
   "mimetype": "text/x-python",
   "name": "python",
   "nbconvert_exporter": "python",
   "pygments_lexer": "ipython3",
   "version": "3.8.10"
  }
 },
 "nbformat": 4,
 "nbformat_minor": 2
}

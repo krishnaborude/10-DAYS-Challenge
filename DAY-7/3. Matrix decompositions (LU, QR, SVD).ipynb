{
 "cells": [
  {
   "cell_type": "markdown",
   "metadata": {},
   "source": [
    "## 1. LU Decomposition (Lower-Upper Decomposition)\n"
   ]
  },
  {
   "cell_type": "markdown",
   "metadata": {},
   "source": [
    "LU decomposition expresses a square matrix \n",
    "𝐴 as:\n",
    "\n",
    "𝐴=𝐿U\n"
   ]
  },
  {
   "cell_type": "markdown",
   "metadata": {},
   "source": [
    "where:\n",
    "\n",
    "𝐿\n",
    " is a lower triangular matrix (all elements above the diagonal are 0).\n",
    "\n",
    "𝑈\n",
    "is an upper triangular matrix (all elements below the diagonal are 0)."
   ]
  },
  {
   "cell_type": "markdown",
   "metadata": {},
   "source": [
    "Use Cases:\n",
    "\n",
    "Efficiently solving linear equations \n",
    "𝐴𝑥=𝑏 (better than Gaussian elimination).\n",
    "\n",
    "Computing matrix inverses and determinants."
   ]
  },
  {
   "cell_type": "code",
   "execution_count": 1,
   "metadata": {},
   "outputs": [
    {
     "name": "stdout",
     "output_type": "stream",
     "text": [
      "L:\n",
      " [[1.         0.         0.        ]\n",
      " [0.66666667 1.         0.        ]\n",
      " [0.33333333 0.6        1.        ]]\n",
      "U:\n",
      " [[ 6.  18.   9. ]\n",
      " [ 0.  -5.  -1. ]\n",
      " [ 0.   0.  -1.4]]\n",
      "P:\n",
      " [[0. 0. 1.]\n",
      " [0. 1. 0.]\n",
      " [1. 0. 0.]]\n"
     ]
    }
   ],
   "source": [
    "import numpy as np\n",
    "from scipy.linalg import lu\n",
    "\n",
    "A = np.array([[2, 3, 1], \n",
    "              [4, 7, 5], \n",
    "              [6, 18, 9]])\n",
    "\n",
    "P, L, U = lu(A)  # P: Permutation matrix, L: Lower, U: Upper\n",
    "\n",
    "print(\"L:\\n\", L)\n",
    "print(\"U:\\n\", U)\n",
    "print(\"P:\\n\", P)  # Ensures stability (partial pivoting)\n"
   ]
  },
  {
   "cell_type": "markdown",
   "metadata": {},
   "source": []
  }
 ],
 "metadata": {
  "kernelspec": {
   "display_name": "Python 3",
   "language": "python",
   "name": "python3"
  },
  "language_info": {
   "codemirror_mode": {
    "name": "ipython",
    "version": 3
   },
   "file_extension": ".py",
   "mimetype": "text/x-python",
   "name": "python",
   "nbconvert_exporter": "python",
   "pygments_lexer": "ipython3",
   "version": "3.8.10"
  }
 },
 "nbformat": 4,
 "nbformat_minor": 2
}

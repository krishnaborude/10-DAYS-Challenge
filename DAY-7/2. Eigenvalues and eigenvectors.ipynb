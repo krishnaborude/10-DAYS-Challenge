{
 "cells": [
  {
   "cell_type": "markdown",
   "metadata": {},
   "source": [
    "# Eigenvalues and Eigenvectors"
   ]
  },
  {
   "cell_type": "markdown",
   "metadata": {},
   "source": [
    "Eigenvalues and eigenvectors are fundamental concepts in linear algebra with wide-ranging applications in physics, engineering, computer science, and machine learning. They help in understanding linear transformations, dimensionality reduction, and stability analysis."
   ]
  },
  {
   "cell_type": "markdown",
   "metadata": {},
   "source": [
    "1. Understanding Eigenvalues and Eigenvectors\n",
    "Given a square matrix \n",
    "𝐴\n",
    " of size \n",
    "𝑛\n",
    "×\n",
    "𝑛, an eigenvector \n",
    "𝑣\n",
    "and its corresponding eigenvalue \n",
    "𝜆\n",
    " satisfy the equation:"
   ]
  },
  {
   "cell_type": "markdown",
   "metadata": {},
   "source": [
    "* Av=λv"
   ]
  },
  {
   "cell_type": "markdown",
   "metadata": {},
   "source": [
    "where:\n",
    "\n",
    "𝐴\n",
    " is an \n",
    "𝑛\n",
    "×\n",
    "𝑛\n",
    "matrix,\n",
    "\n",
    "𝑣\n",
    "s a nonzero vector (eigenvector),\n",
    "\n",
    "𝜆\n",
    " is a scalar (eigenvalue)."
   ]
  },
  {
   "cell_type": "markdown",
   "metadata": {},
   "source": [
    "This equation states that when the matrix \n",
    "𝐴\n",
    "acts on the vector \n",
    "𝑣\n",
    ", it only scales it by \n",
    "𝜆\n",
    " instead of changing its direction."
   ]
  },
  {
   "cell_type": "markdown",
   "metadata": {},
   "source": []
  }
 ],
 "metadata": {
  "language_info": {
   "name": "python"
  }
 },
 "nbformat": 4,
 "nbformat_minor": 2
}

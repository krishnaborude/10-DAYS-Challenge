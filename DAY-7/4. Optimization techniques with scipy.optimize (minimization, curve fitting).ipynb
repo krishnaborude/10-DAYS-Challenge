{
 "cells": [
  {
   "cell_type": "markdown",
   "metadata": {},
   "source": [
    "### Optimization Techniques with scipy.optimize\n",
    "scipy.optimize provides powerful tools for solving optimization problems, including:\n",
    "\n",
    "1. Function Minimization: Finding the minimum of a given function.\n",
    "\n",
    "2. Root Finding: Solving equations of the form 𝑓(𝑥)=0.\n",
    "\n",
    "3. Curve Fitting: Fitting models to data.\n",
    "\n",
    "4. Constrained Optimization: Optimizing functions subject to constraints."
   ]
  },
  {
   "cell_type": "markdown",
   "metadata": {},
   "source": [
    "### 1. Function Minimization (minimize)\n",
    "Unconstrained Minimization\n",
    "\n",
    "The minimize function is used to find the minimum of a scalar function.\n",
    "\n",
    "Methods: \"BFGS\", \"Nelder-Mead\", \"CG\", \"Powell\", etc."
   ]
  },
  {
   "cell_type": "markdown",
   "metadata": {},
   "source": [
    "### Example: Minimizing a Function\n",
    "Let's minimize \n",
    "𝑓(𝑥)=𝑥2+3𝑥+5"
   ]
  },
  {
   "cell_type": "code",
   "execution_count": 1,
   "metadata": {},
   "outputs": [
    {
     "name": "stdout",
     "output_type": "stream",
     "text": [
      "  message: Optimization terminated successfully.\n",
      "  success: True\n",
      "   status: 0\n",
      "      fun: 2.75\n",
      "        x: [-1.500e+00]\n",
      "      nit: 2\n",
      "      jac: [ 0.000e+00]\n",
      " hess_inv: [[ 5.000e-01]]\n",
      "     nfev: 6\n",
      "     njev: 3\n"
     ]
    }
   ],
   "source": [
    "import numpy as np\n",
    "from scipy.optimize import minimize\n",
    "\n",
    "# Define the function to minimize\n",
    "def f(x):\n",
    "    return x**2 + 3*x + 5\n",
    "\n",
    "# Initial guess\n",
    "x0 = 0\n",
    "\n",
    "# Minimize using the 'BFGS' method\n",
    "result = minimize(f, x0, method=\"BFGS\")\n",
    "print(result)\n"
   ]
  },
  {
   "cell_type": "markdown",
   "metadata": {},
   "source": []
  }
 ],
 "metadata": {
  "kernelspec": {
   "display_name": "Python 3",
   "language": "python",
   "name": "python3"
  },
  "language_info": {
   "codemirror_mode": {
    "name": "ipython",
    "version": 3
   },
   "file_extension": ".py",
   "mimetype": "text/x-python",
   "name": "python",
   "nbconvert_exporter": "python",
   "pygments_lexer": "ipython3",
   "version": "3.8.10"
  }
 },
 "nbformat": 4,
 "nbformat_minor": 2
}

{
 "cells": [
  {
   "cell_type": "markdown",
   "metadata": {},
   "source": [
    "NumPy arrays have various attributes:"
   ]
  },
  {
   "cell_type": "markdown",
   "metadata": {},
   "source": [
    "|Attribute\t| Description|\n",
    "|-----------|------------|\n",
    "|ndim\t   | Number of dimensions|\n",
    "|shape\t   | Tuple representing dimensions|\n",
    "|size\t   | Total number of elements|\n",
    "|dtype\t   | Data type of elements|\n",
    "|itemsize\t|Size of each element (in bytes)|\n",
    "|nbytes\t   | Total bytes consumed|"
   ]
  },
  {
   "cell_type": "markdown",
   "metadata": {},
   "source": [
    "Examples"
   ]
  },
  {
   "cell_type": "code",
   "execution_count": 2,
   "metadata": {},
   "outputs": [
    {
     "name": "stdout",
     "output_type": "stream",
     "text": [
      "Dimensions: 2\n",
      "Shape: (2, 3)\n",
      "Size: 6\n",
      "Data type: int32\n",
      "Item size: 4\n",
      "Total memory: 24\n"
     ]
    }
   ],
   "source": [
    "import numpy as np\n",
    "arr = np.array([[1, 2, 3], [4, 5, 6]])\n",
    "\n",
    "print(\"Dimensions:\", arr.ndim)    # 2\n",
    "print(\"Shape:\", arr.shape)        # (2, 3)\n",
    "print(\"Size:\", arr.size)          # 6\n",
    "print(\"Data type:\", arr.dtype)    # int64 (depends on system)\n",
    "print(\"Item size:\", arr.itemsize) # Size in bytes\n",
    "print(\"Total memory:\", arr.nbytes) # Total bytes used\n"
   ]
  },
  {
   "cell_type": "code",
   "execution_count": null,
   "metadata": {},
   "outputs": [],
   "source": []
  }
 ],
 "metadata": {
  "kernelspec": {
   "display_name": "Python 3",
   "language": "python",
   "name": "python3"
  },
  "language_info": {
   "codemirror_mode": {
    "name": "ipython",
    "version": 3
   },
   "file_extension": ".py",
   "mimetype": "text/x-python",
   "name": "python",
   "nbconvert_exporter": "python",
   "pygments_lexer": "ipython3",
   "version": "3.8.10"
  }
 },
 "nbformat": 4,
 "nbformat_minor": 2
}

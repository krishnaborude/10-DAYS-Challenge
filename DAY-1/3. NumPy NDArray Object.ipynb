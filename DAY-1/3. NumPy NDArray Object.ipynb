{
 "cells": [
  {
   "cell_type": "markdown",
   "metadata": {},
   "source": [
    "The ndarray is the core NumPy object, supporting operations like slicing, reshaping, and broadcasting."
   ]
  },
  {
   "cell_type": "markdown",
   "metadata": {},
   "source": [
    "Creating Arrays"
   ]
  },
  {
   "cell_type": "code",
   "execution_count": 1,
   "metadata": {},
   "outputs": [
    {
     "name": "stdout",
     "output_type": "stream",
     "text": [
      "1\n",
      "2\n",
      "3\n"
     ]
    }
   ],
   "source": [
    "import numpy as np\n",
    "\n",
    "# 1D Array\n",
    "arr1 = np.array([1, 2, 3, 4, 5])\n",
    "\n",
    "# 2D Array (Matrix)\n",
    "arr2 = np.array([[1, 2, 3], [4, 5, 6]])\n",
    "\n",
    "# 3D Array\n",
    "arr3 = np.array([[[1, 2], [3, 4]], [[5, 6], [7, 8]]])\n",
    "\n",
    "print(arr1.ndim)  # 1D\n",
    "print(arr2.ndim)  # 2D\n",
    "print(arr3.ndim)  # 3D\n"
   ]
  },
  {
   "cell_type": "markdown",
   "metadata": {},
   "source": [
    "Creating Special Arrays"
   ]
  },
  {
   "cell_type": "code",
   "execution_count": 5,
   "metadata": {},
   "outputs": [
    {
     "name": "stdout",
     "output_type": "stream",
     "text": [
      "[[0. 0. 0.]\n",
      " [0. 0. 0.]\n",
      " [0. 0. 0.]]\n",
      "[[1. 1. 1. 1.]\n",
      " [1. 1. 1. 1.]]\n",
      "[[1. 0. 0.]\n",
      " [0. 1. 0.]\n",
      " [0. 0. 1.]]\n",
      "[[0.10287252 0.60595341 0.05194971]\n",
      " [0.39904073 0.17763682 0.4848266 ]]\n",
      "[1 3 5 7 9]\n"
     ]
    }
   ],
   "source": [
    "# Array of zeros\n",
    "zeros = np.zeros((3, 3))\n",
    "\n",
    "# Array of ones\n",
    "ones = np.ones((2, 4))\n",
    "\n",
    "# Identity Matrix\n",
    "identity = np.eye(3)\n",
    "\n",
    "# Random numbers\n",
    "random_arr = np.random.rand(2, 3)\n",
    "\n",
    "# Range of numbers\n",
    "range_arr = np.arange(1, 10, 2)  # [1, 3, 5, 7, 9]\n",
    "\n",
    "print(zeros)\n",
    "print(ones)\n",
    "print(identity)\n",
    "print(random_arr)\n",
    "print(range_arr)"
   ]
  },
  {
   "cell_type": "code",
   "execution_count": null,
   "metadata": {},
   "outputs": [],
   "source": []
  }
 ],
 "metadata": {
  "kernelspec": {
   "display_name": "Python 3",
   "language": "python",
   "name": "python3"
  },
  "language_info": {
   "codemirror_mode": {
    "name": "ipython",
    "version": 3
   },
   "file_extension": ".py",
   "mimetype": "text/x-python",
   "name": "python",
   "nbconvert_exporter": "python",
   "pygments_lexer": "ipython3",
   "version": "3.8.10"
  }
 },
 "nbformat": 4,
 "nbformat_minor": 2
}

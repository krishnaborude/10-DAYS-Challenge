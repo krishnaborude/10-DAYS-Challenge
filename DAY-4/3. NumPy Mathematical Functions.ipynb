{
 "cells": [
  {
   "cell_type": "markdown",
   "id": "0580e3c1",
   "metadata": {},
   "source": [
    "# NumPy Mathematical Functions"
   ]
  },
  {
   "cell_type": "markdown",
   "id": "f5093ac2",
   "metadata": {},
   "source": [
    "This notebook covers various mathematical functions in NumPy, including trigonometric, exponential, logarithmic, power, rounding, absolute, statistical, and special functions."
   ]
  },
  {
   "cell_type": "markdown",
   "id": "a6c70d47",
   "metadata": {},
   "source": [
    "## 1. Trigonometric Functions\n",
    "These functions operate on angles and are useful in geometric and scientific computations."
   ]
  },
  {
   "cell_type": "code",
   "execution_count": 1,
   "id": "14a8e806",
   "metadata": {},
   "outputs": [
    {
     "name": "stdout",
     "output_type": "stream",
     "text": [
      "[ 0.0000000e+00  1.0000000e+00  1.2246468e-16 -1.0000000e+00]\n",
      "[ 1.0000000e+00  6.1232340e-17 -1.0000000e+00 -1.8369702e-16]\n",
      "[ 0.00000000e+00  1.63312394e+16 -1.22464680e-16  5.44374645e+15]\n"
     ]
    }
   ],
   "source": [
    "import numpy as np\n",
    "\n",
    "angles = np.array([0, np.pi/2, np.pi, 3*np.pi/2])\n",
    "\n",
    "print(np.sin(angles))  # Sine\n",
    "print(np.cos(angles))  # Cosine\n",
    "print(np.tan(angles))  # Tangent"
   ]
  },
  {
   "cell_type": "markdown",
   "id": "7115d131",
   "metadata": {},
   "source": [
    "### Inverse Trigonometric Functions\n",
    "These return angles in radians."
   ]
  },
  {
   "cell_type": "code",
   "execution_count": 2,
   "id": "2f0b1c90",
   "metadata": {},
   "outputs": [
    {
     "name": "stdout",
     "output_type": "stream",
     "text": [
      "[0.         0.52359878 1.57079633]\n",
      "[1.57079633 1.04719755 0.        ]\n",
      "[0.         0.46364761 0.78539816]\n"
     ]
    }
   ],
   "source": [
    "values = np.array([0, 0.5, 1])\n",
    "\n",
    "print(np.arcsin(values))  # Inverse Sine\n",
    "print(np.arccos(values))  # Inverse Cosine\n",
    "print(np.arctan(values))  # Inverse Tangent"
   ]
  },
  {
   "cell_type": "markdown",
   "id": "5f3e4fdf",
   "metadata": {},
   "source": [
    "### Hyperbolic Functions"
   ]
  },
  {
   "cell_type": "code",
   "execution_count": 3,
   "id": "bc8a6ae7",
   "metadata": {},
   "outputs": [
    {
     "name": "stdout",
     "output_type": "stream",
     "text": [
      "[ 0.          1.17520119 -1.17520119]\n",
      "[1.         1.54308063 1.54308063]\n",
      "[ 0.          0.76159416 -0.76159416]\n"
     ]
    }
   ],
   "source": [
    "x = np.array([0, 1, -1])\n",
    "\n",
    "print(np.sinh(x))  # Hyperbolic Sine\n",
    "print(np.cosh(x))  # Hyperbolic Cosine\n",
    "print(np.tanh(x))  # Hyperbolic Tangent"
   ]
  },
  {
   "cell_type": "markdown",
   "id": "3f4f1ce2",
   "metadata": {},
   "source": [
    "## 2. Exponential and Logarithmic Functions\n",
    "These functions are useful for scientific and engineering applications."
   ]
  },
  {
   "cell_type": "code",
   "execution_count": 4,
   "id": "cddf34c2",
   "metadata": {},
   "outputs": [
    {
     "name": "stdout",
     "output_type": "stream",
     "text": [
      "[1.         2.71828183 7.3890561 ]\n",
      "[0.         1.71828183 6.3890561 ]\n",
      "[1. 2. 4.]\n"
     ]
    }
   ],
   "source": [
    "x = np.array([0, 1, 2])\n",
    "\n",
    "print(np.exp(x))      # e^x\n",
    "print(np.expm1(x))    # e^x - 1\n",
    "print(np.exp2(x))     # 2^x"
   ]
  },
  {
   "cell_type": "code",
   "execution_count": 5,
   "id": "e99034af",
   "metadata": {},
   "outputs": [
    {
     "name": "stdout",
     "output_type": "stream",
     "text": [
      "[0.         1.         2.30258509]\n",
      "[0.         0.43429448 1.        ]\n",
      "[0.         1.44269504 3.32192809]\n",
      "[0.69314718 1.31326169 2.39789527]\n"
     ]
    }
   ],
   "source": [
    "x = np.array([1, np.e, 10])\n",
    "\n",
    "print(np.log(x))      # Natural Log (base e)\n",
    "print(np.log10(x))    # Log base 10\n",
    "print(np.log2(x))     # Log base 2\n",
    "print(np.log1p(x))    # log(1 + x)"
   ]
  },
  {
   "cell_type": "markdown",
   "id": "4e73d467",
   "metadata": {},
   "source": [
    "## 3. Power and Root Functions"
   ]
  },
  {
   "cell_type": "code",
   "execution_count": 6,
   "id": "61eac410",
   "metadata": {},
   "outputs": [
    {
     "name": "stdout",
     "output_type": "stream",
     "text": [
      "[1. 2. 3. 4.]\n",
      "[1.         1.58740105 2.08008382 2.5198421 ]\n",
      "[  1  16  81 256]\n",
      "[   1   64  729 4096]\n"
     ]
    }
   ],
   "source": [
    "x = np.array([1, 4, 9, 16])\n",
    "\n",
    "print(np.sqrt(x))     # Square Root\n",
    "print(np.cbrt(x))     # Cube Root\n",
    "print(np.square(x))   # Square (x^2)\n",
    "print(np.power(x, 3)) # x^3"
   ]
  },
  {
   "cell_type": "markdown",
   "id": "42e07de9",
   "metadata": {},
   "source": [
    "## 4. Rounding Functions"
   ]
  },
  {
   "cell_type": "code",
   "execution_count": 7,
   "id": "2914c733",
   "metadata": {},
   "outputs": [
    {
     "name": "stdout",
     "output_type": "stream",
     "text": [
      "[ 1.  2.  2. -2.]\n",
      "[ 1.  1.  2. -2.]\n",
      "[ 2.  2.  3. -1.]\n",
      "[ 1.  1.  2. -1.]\n"
     ]
    }
   ],
   "source": [
    "x = np.array([1.4, 1.6, 2.5, -1.5])\n",
    "\n",
    "print(np.round(x))    # Round to nearest integer\n",
    "print(np.floor(x))    # Round down\n",
    "print(np.ceil(x))     # Round up\n",
    "print(np.trunc(x))    # Truncate decimal part"
   ]
  },
  {
   "cell_type": "markdown",
   "id": "fdc5edca",
   "metadata": {},
   "source": [
    "## 5. Absolute and Sign Functions"
   ]
  },
  {
   "cell_type": "code",
   "execution_count": 8,
   "id": "3990fa21",
   "metadata": {},
   "outputs": [
    {
     "name": "stdout",
     "output_type": "stream",
     "text": [
      "[1 2 0 3 4]\n",
      "[-1 -1  0  1  1]\n"
     ]
    }
   ],
   "source": [
    "x = np.array([-1, -2, 0, 3, 4])\n",
    "\n",
    "print(np.abs(x))      # Absolute value\n",
    "print(np.sign(x))     # Sign of numbers (-1, 0, or 1)"
   ]
  },
  {
   "cell_type": "markdown",
   "id": "b4ab3828",
   "metadata": {},
   "source": [
    "## 6. Statistical Functions\n",
    "These functions help in data analysis."
   ]
  },
  {
   "cell_type": "code",
   "execution_count": 9,
   "id": "0f7c6003",
   "metadata": {},
   "outputs": [
    {
     "name": "stdout",
     "output_type": "stream",
     "text": [
      "1\n",
      "5\n",
      "3.0\n",
      "3.0\n",
      "1.4142135623730951\n",
      "2.0\n"
     ]
    }
   ],
   "source": [
    "x = np.array([1, 2, 3, 4, 5])\n",
    "\n",
    "print(np.min(x))      # Minimum\n",
    "print(np.max(x))      # Maximum\n",
    "print(np.mean(x))     # Mean (Average)\n",
    "print(np.median(x))   # Median\n",
    "print(np.std(x))      # Standard Deviation\n",
    "print(np.var(x))      # Variance"
   ]
  },
  {
   "cell_type": "markdown",
   "id": "138e9908",
   "metadata": {},
   "source": [
    "## 7. Special Functions"
   ]
  },
  {
   "cell_type": "markdown",
   "id": "ea899eec",
   "metadata": {},
   "source": [
    "### GCD and LCM"
   ]
  },
  {
   "cell_type": "code",
   "execution_count": 10,
   "id": "efaf0e33",
   "metadata": {},
   "outputs": [
    {
     "name": "stdout",
     "output_type": "stream",
     "text": [
      "5\n",
      "60\n"
     ]
    }
   ],
   "source": [
    "a = 15\n",
    "b = 20\n",
    "\n",
    "print(np.gcd(a, b))   # Greatest Common Divisor\n",
    "print(np.lcm(a, b))   # Least Common Multiple"
   ]
  },
  {
   "cell_type": "markdown",
   "id": "f2890846",
   "metadata": {},
   "source": [
    "### Factorial and Gamma Function"
   ]
  },
  {
   "cell_type": "code",
   "execution_count": 11,
   "id": "14cd4b85",
   "metadata": {},
   "outputs": [
    {
     "name": "stdout",
     "output_type": "stream",
     "text": [
      "120\n",
      "60\n",
      "[ 3 12 60]\n"
     ]
    }
   ],
   "source": [
    "x = np.array([3, 4, 5])\n",
    "\n",
    "print(np.math.factorial(5))   # Factorial (only for scalars)\n",
    "print(np.prod(x))             # Product of array elements\n",
    "print(np.cumprod(x))          # Cumulative product"
   ]
  },
  {
   "cell_type": "markdown",
   "id": "17730347",
   "metadata": {},
   "source": [
    "## Conclusion\n",
    "NumPy provides a wide range of mathematical functions that allow efficient numerical computations on arrays. This notebook covered the most commonly used functions."
   ]
  }
 ],
 "metadata": {
  "kernelspec": {
   "display_name": "Python 3",
   "language": "python",
   "name": "python3"
  },
  "language_info": {
   "codemirror_mode": {
    "name": "ipython",
    "version": 3
   },
   "file_extension": ".py",
   "mimetype": "text/x-python",
   "name": "python",
   "nbconvert_exporter": "python",
   "pygments_lexer": "ipython3",
   "version": "3.8.10"
  }
 },
 "nbformat": 4,
 "nbformat_minor": 5
}

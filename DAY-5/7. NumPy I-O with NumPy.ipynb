{
 "cells": [
  {
   "cell_type": "markdown",
   "metadata": {},
   "source": [
    "## 1. Saving and Loading Arrays\n",
    "#### 1.1 Binary File Format (.npy)\n",
    "NumPy’s .npy format is optimized for storing single arrays in a binary format with metadata.\n",
    "\n",
    "Saving an Array"
   ]
  },
  {
   "cell_type": "code",
   "execution_count": null,
   "metadata": {},
   "outputs": [],
   "source": [
    "import numpy as np\n",
    "\n",
    "arr = np.array([[1, 2, 3], [4, 5, 6]])\n",
    "np.save('array.npy', arr)"
   ]
  },
  {
   "cell_type": "markdown",
   "metadata": {},
   "source": [
    "Loading an Array"
   ]
  },
  {
   "cell_type": "code",
   "execution_count": 20,
   "metadata": {},
   "outputs": [
    {
     "name": "stdout",
     "output_type": "stream",
     "text": [
      "[[1 2 3]\n",
      " [4 5 6]]\n"
     ]
    }
   ],
   "source": [
    "loaded_arr = np.load('array.npy')\n",
    "print(loaded_arr)"
   ]
  },
  {
   "cell_type": "markdown",
   "metadata": {},
   "source": [
    " Advantages:\n",
    "\n",
    "* Preserves data type and shape.\n",
    "\n",
    "* Efficient storage and retrieval."
   ]
  },
  {
   "cell_type": "markdown",
   "metadata": {},
   "source": [
    "#### 1.2 Multiple Arrays (.npz format)\n",
    "You can store multiple arrays in a single file using .npz.\n",
    "\n",
    "Saving Multiple Arrays"
   ]
  },
  {
   "cell_type": "code",
   "execution_count": 21,
   "metadata": {},
   "outputs": [],
   "source": [
    "arr1 = np.array([10, 20, 30])\n",
    "arr2 = np.array([[1, 2], [3, 4]])\n",
    "\n",
    "np.savez('multiple_arrays.npz', first=arr1, second=arr2)\n"
   ]
  },
  {
   "cell_type": "markdown",
   "metadata": {},
   "source": [
    "Loading Multiple Arrays"
   ]
  },
  {
   "cell_type": "code",
   "execution_count": 22,
   "metadata": {},
   "outputs": [
    {
     "name": "stdout",
     "output_type": "stream",
     "text": [
      "[10 20 30]\n",
      "[[1 2]\n",
      " [3 4]]\n"
     ]
    }
   ],
   "source": [
    "loaded = np.load('multiple_arrays.npz')\n",
    "print(loaded['first'])  # Access first array\n",
    "print(loaded['second']) # Access second array"
   ]
  },
  {
   "cell_type": "markdown",
   "metadata": {},
   "source": [
    "✅ Advantages:\n",
    "\n",
    "* Stores multiple arrays in a compressed format.\n",
    "\n",
    "* Uses dictionary-like key access."
   ]
  },
  {
   "cell_type": "markdown",
   "metadata": {},
   "source": [
    "## 2. Saving and Loading Text Files\n",
    "NumPy also supports text-based I/O.\n",
    "\n",
    "#### 2.1 Saving to a Text File (.txt, .csv)\n",
    "Using savetxt()"
   ]
  },
  {
   "cell_type": "code",
   "execution_count": 23,
   "metadata": {},
   "outputs": [],
   "source": [
    "np.savetxt('data.txt', arr, delimiter=',', fmt='%d')"
   ]
  },
  {
   "cell_type": "markdown",
   "metadata": {},
   "source": [
    "* delimiter=',' → Specifies column separation.\n",
    "\n",
    "* fmt='%d' → Controls the format (integer in this case)."
   ]
  },
  {
   "cell_type": "markdown",
   "metadata": {},
   "source": [
    "Using tofile() (Raw Binary/Text)"
   ]
  },
  {
   "cell_type": "code",
   "execution_count": 24,
   "metadata": {},
   "outputs": [],
   "source": [
    "arr.tofile('raw_data.bin')"
   ]
  },
  {
   "cell_type": "markdown",
   "metadata": {},
   "source": [
    "#### 2.2 Loading from a Text File\n",
    "Using loadtxt()"
   ]
  },
  {
   "cell_type": "code",
   "execution_count": 25,
   "metadata": {},
   "outputs": [
    {
     "name": "stdout",
     "output_type": "stream",
     "text": [
      "[[1 2 3]\n",
      " [4 5 6]]\n"
     ]
    }
   ],
   "source": [
    "data = np.loadtxt('data.txt', delimiter=',', dtype=int)\n",
    "print(data)\n"
   ]
  },
  {
   "cell_type": "markdown",
   "metadata": {},
   "source": [
    "Using fromfile()"
   ]
  },
  {
   "cell_type": "code",
   "execution_count": 26,
   "metadata": {},
   "outputs": [
    {
     "name": "stdout",
     "output_type": "stream",
     "text": [
      "[1 2 3 4 5 6]\n"
     ]
    }
   ],
   "source": [
    "raw_data = np.fromfile('raw_data.bin', dtype=np.int32)\n",
    "print(raw_data)"
   ]
  },
  {
   "cell_type": "markdown",
   "metadata": {},
   "source": [
    "✅ Use Cases:\n",
    "\n",
    "* savetxt() and loadtxt() are human-readable.\n",
    "\n",
    "* tofile() and fromfile() are faster but lack metadata."
   ]
  },
  {
   "cell_type": "markdown",
   "metadata": {},
   "source": [
    "## 3. Handling CSV Files\n",
    "#### 3.1 Saving to CSV"
   ]
  },
  {
   "cell_type": "code",
   "execution_count": 27,
   "metadata": {},
   "outputs": [],
   "source": [
    "np.savetxt('data.csv', arr, delimiter=',', fmt='%d', header='col1,col2,col3')"
   ]
  },
  {
   "cell_type": "markdown",
   "metadata": {},
   "source": [
    "#### 3.2 Loading CSV"
   ]
  },
  {
   "cell_type": "code",
   "execution_count": 28,
   "metadata": {},
   "outputs": [
    {
     "name": "stdout",
     "output_type": "stream",
     "text": [
      "[[1 2 3]\n",
      " [4 5 6]]\n"
     ]
    }
   ],
   "source": [
    "csv_data = np.loadtxt('data.csv', delimiter=',', skiprows=1, dtype=int)\n",
    "print(csv_data)"
   ]
  },
  {
   "cell_type": "markdown",
   "metadata": {},
   "source": [
    "## 4. Handling Large Files\n",
    "For large datasets, use memmap to avoid loading the full array into memory.\n",
    "\n",
    "Using memmap for Large Data"
   ]
  },
  {
   "cell_type": "code",
   "execution_count": 29,
   "metadata": {},
   "outputs": [
    {
     "name": "stdout",
     "output_type": "stream",
     "text": [
      "[0.21231301 0.09442492 0.31180766 0.3660144  0.33762398 0.8815037\n",
      " 0.47535494 0.7169954  0.30740893 0.16903509]\n"
     ]
    }
   ],
   "source": [
    "large_arr = np.memmap('large_data.dat', dtype='float32', mode='w+', shape=(10000, 10000))\n",
    "large_arr[:] = np.random.rand(10000, 10000)  # Assign values without full memory usage\n",
    "del large_arr  # Flush changes to disk\n",
    "\n",
    "# Load back\n",
    "large_arr_loaded = np.memmap('large_data.dat', dtype='float32', mode='r', shape=(10000, 10000))\n",
    "print(large_arr_loaded[0, :10])  # Access part of the array\n"
   ]
  },
  {
   "cell_type": "markdown",
   "metadata": {},
   "source": [
    "✅ Advantages:\n",
    "\n",
    "* Handles large arrays without RAM overflow.\n",
    "\n",
    "* Allows on-demand loading."
   ]
  },
  {
   "cell_type": "markdown",
   "metadata": {},
   "source": [
    "## 5. Pickle for Saving Any NumPy Object"
   ]
  },
  {
   "cell_type": "code",
   "execution_count": 30,
   "metadata": {},
   "outputs": [],
   "source": [
    "import pickle\n",
    "\n",
    "with open('array.pkl', 'wb') as f:\n",
    "    pickle.dump(arr, f)\n",
    "\n",
    "# Load\n",
    "with open('array.pkl', 'rb') as f:\n",
    "    arr_loaded = pickle.load(f)\n"
   ]
  },
  {
   "cell_type": "markdown",
   "metadata": {},
   "source": [
    "✅ Use Case:\n",
    "\n",
    "* Stores arbitrary Python objects beyond arrays."
   ]
  },
  {
   "cell_type": "markdown",
   "metadata": {},
   "source": [
    "#### Conclusion\n",
    "|Method    |  \tFormat|\tSupports Multiple Arrays|\tHuman Readable|\tMetadata Preserved|\n",
    "|----------|-----------|---------------------|--------------------|-------------------|\n",
    "|.npy\t  |      Binary\t       | ❌\t        |          ❌         |\t✅|\n",
    "|.npz\t  |      Compressed Binary|\t✅\t   |           ❌\t      |   ✅|\n",
    "|savetxt()|\t   Text (CSV/TXT)\t|   ❌\t   |             ✅\t    |    ❌|\n",
    "|loadtxt()|\t   Text (CSV/TXT)|\t❌\t       |              ✅\t    |       ❌|\n",
    "|tofile()|\t    Raw Binary\t|    ❌\t       |           ❌\t        |     ❌|\n",
    "|fromfile()\t|   Raw Binary\t|    ❌\t       |           ❌\t        |        ❌|\n",
    "|memmap\t|      Binary\t|        ❌\t       |            ❌\t    |    ✅|\n",
    "|pickle\t |     Binary\t|        ✅\t       |         ❌\t        |    ✅|"
   ]
  }
 ],
 "metadata": {
  "kernelspec": {
   "display_name": "Python 3",
   "language": "python",
   "name": "python3"
  },
  "language_info": {
   "codemirror_mode": {
    "name": "ipython",
    "version": 3
   },
   "file_extension": ".py",
   "mimetype": "text/x-python",
   "name": "python",
   "nbconvert_exporter": "python",
   "pygments_lexer": "ipython3",
   "version": "3.8.10"
  }
 },
 "nbformat": 4,
 "nbformat_minor": 2
}

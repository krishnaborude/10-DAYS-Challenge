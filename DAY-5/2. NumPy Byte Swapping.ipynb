{
 "cells": [
  {
   "cell_type": "markdown",
   "metadata": {},
   "source": [
    "* Understanding Endianness\n",
    "\n",
    "* Checking Byte Order in NumPy\n",
    "\n",
    "* Performing Byte Swapping\n",
    "\n",
    "* Effects of Byte Swapping on Data\n",
    "\n",
    "* Real-World Applications"
   ]
  },
  {
   "cell_type": "markdown",
   "metadata": {},
   "source": [
    "### Types of Endianness\n",
    "#### 1.Little-endian (used by Intel & AMD CPUs):\n",
    "\n",
    "* The least significant byte (LSB) is stored first (at the lowest memory address).\n",
    "\n",
    "* Example: 0x12345678 (4-byte integer)\n",
    "\n",
    "  * Stored as: 78 56 34 12\n",
    "\n",
    "#### 2.Big-endian (used by older architectures, network protocols):\n",
    "\n",
    "* The most significant byte (MSB) is stored first.\n",
    "\n",
    "* Example: 0x12345678\n",
    "\n",
    "    * Stored as: 12 34 56 78\n",
    "\n",
    "💡 Example Analogy: Think of a book's pages:\n",
    "\n",
    "* Little-endian: You read the last word of a page first.\n",
    "\n",
    "* Big-endian: You read the first word of a page first."
   ]
  },
  {
   "cell_type": "markdown",
   "metadata": {},
   "source": [
    "### 2. Checking Byte Order in NumPy\n",
    "NumPy arrays have a dtype.byteorder attribute that tells you the current byte order."
   ]
  },
  {
   "cell_type": "markdown",
   "metadata": {},
   "source": [
    "Example: Checking Byte Order"
   ]
  },
  {
   "cell_type": "code",
   "execution_count": 2,
   "metadata": {},
   "outputs": [
    {
     "name": "stdout",
     "output_type": "stream",
     "text": [
      "Byte order: =\n"
     ]
    }
   ],
   "source": [
    "import numpy as np\n",
    "\n",
    "arr = np.array([1, 256, 1024], dtype=np.int16)\n",
    "print(\"Byte order:\", arr.dtype.byteorder)"
   ]
  },
  {
   "cell_type": "markdown",
   "metadata": {},
   "source": [
    "##### Byte Order Symbols in NumPy\n",
    "* '=' → Native byte order (depends on system: little-endian on x86, big-endian on some older CPUs).\n",
    "\n",
    "* '<' → Little-endian.\n",
    "\n",
    "* '>' → Big-endian.\n",
    "\n",
    "##### Detecting System Endianness"
   ]
  },
  {
   "cell_type": "code",
   "execution_count": 3,
   "metadata": {},
   "outputs": [
    {
     "name": "stdout",
     "output_type": "stream",
     "text": [
      "=\n",
      "True\n"
     ]
    }
   ],
   "source": [
    "print(np.dtype(int).byteorder)  # '=' for native\n",
    "print(np.little_endian)         # True if the system is little-endian"
   ]
  },
  {
   "cell_type": "markdown",
   "metadata": {},
   "source": [
    "### 3. Performing Byte Swapping\n",
    "Byte swapping is done using the .byteswap() function.\n",
    "\n",
    "Syntax"
   ]
  },
  {
   "cell_type": "code",
   "execution_count": null,
   "metadata": {},
   "outputs": [],
   "source": [
    "# array.byteswap(inplace=False)"
   ]
  },
  {
   "cell_type": "markdown",
   "metadata": {},
   "source": [
    "* inplace=True: Modifies the array in place.\n",
    "\n",
    "* inplace=False: Returns a new array with swapped bytes."
   ]
  },
  {
   "cell_type": "markdown",
   "metadata": {},
   "source": [
    "Example: Byte Swapping"
   ]
  },
  {
   "cell_type": "code",
   "execution_count": null,
   "metadata": {},
   "outputs": [
    {
     "name": "stdout",
     "output_type": "stream",
     "text": [
      "Original array: [   1  256 1024]\n",
      "Swapped array: [256   1   4]\n"
     ]
    }
   ],
   "source": [
    "arr = np.array([1, 256, 1024], dtype=np.int16)\n",
    "swapped = arr.byteswap(inplace=False)\n",
    "\n",
    "print(\"Original array:\", arr)\n",
    "print(\"Swapped array:\", swapped)"
   ]
  },
  {
   "cell_type": "markdown",
   "metadata": {},
   "source": [
    "Checking the Effect of Swapping"
   ]
  },
  {
   "cell_type": "code",
   "execution_count": null,
   "metadata": {},
   "outputs": [],
   "source": [
    "print(\"Original dtype:\", arr.dtype.byteorder)\n",
    "print(\"Swapped dtype:\", swapped.dtype.byteorder)"
   ]
  },
  {
   "cell_type": "markdown",
   "metadata": {},
   "source": [
    "##### Before swapping:\n",
    "\n",
    "* 1 → 0x0001\n",
    "\n",
    "* 256 → 0x0100\n",
    "\n",
    "* 1024 → 0x0400\n",
    "\n",
    "##### After swapping:\n",
    "\n",
    "* 1 → 0x0100 (256)\n",
    "\n",
    "* 256 → 0x0001 (1)\n",
    "\n",
    "* 1024 → 0x0004 (4)\n",
    "\n",
    "🚨 Warning: Byte swapping only changes how the bytes are interpreted, not the values themselves!"
   ]
  },
  {
   "cell_type": "markdown",
   "metadata": {},
   "source": [
    "### 4. Effects of Byte Swapping on Data\n",
    "#### Floating-Point Example\n",
    "Byte swapping affects all data types, including floating points."
   ]
  },
  {
   "cell_type": "code",
   "execution_count": null,
   "metadata": {},
   "outputs": [
    {
     "name": "stdout",
     "output_type": "stream",
     "text": [
      "Original: [1.5 2.5 3.5]\n",
      "Swapped: [6.8965e-41 1.1569e-41 3.4528e-41]\n"
     ]
    }
   ],
   "source": [
    "arr = np.array([1.5, 2.5, 3.5], dtype=np.float32)\n",
    "swapped = arr.byteswap()\n",
    "\n",
    "print(\"Original:\", arr)\n",
    "print(\"Swapped:\", swapped)"
   ]
  },
  {
   "cell_type": "markdown",
   "metadata": {},
   "source": [
    "🛑 Warning: Floating-point numbers may become invalid if byte-swapped improperly.\n",
    "\n"
   ]
  },
  {
   "cell_type": "markdown",
   "metadata": {},
   "source": [
    "### 5. Real-World Applications of Byte Swapping\n",
    "#### 1. Reading Binary Files Across Systems\n",
    "* Data saved in big-endian format may need to be converted when read on a little-endian machine.\n",
    "\n",
    "* Example: Medical imaging data (DICOM files), network packets."
   ]
  },
  {
   "cell_type": "code",
   "execution_count": null,
   "metadata": {},
   "outputs": [],
   "source": [
    "data = np.fromfile(\"big_endian_file.bin\", dtype=np.int32)\n",
    "if np.little_endian:\n",
    "    data = data.byteswap()"
   ]
  },
  {
   "cell_type": "markdown",
   "metadata": {},
   "source": [
    "#### 2. Data Transmission Over Networks\n",
    "* Networks often use big-endian (network byte order).\n",
    "\n",
    "* Before sending data from a little-endian system, swap bytes.\n",
    "\n",
    "#### 3. Compatibility With External Libraries\n",
    "* Some scientific libraries (e.g., HDF5, NetCDF) store data in a specific endianness.\n",
    "\n",
    "* NumPy ensures correct interpretation with byteswap()."
   ]
  },
  {
   "cell_type": "markdown",
   "metadata": {},
   "source": [
    "###### 6. Summary\n",
    "\n",
    "\n",
    "|    Operation\t|    Example\t|    Effect|  \n",
    "|-----------------|------------------|------------------|  \n",
    "|    Check endianness\t|    arr.dtype.byteorder\t|    Returns =, <, or >|    \n",
    "|    Swap bytes\t|    arr.byteswap(inplace=False)\t|    Returns a new swapped array|    \n",
    "|    Swap in place\t|    arr.byteswap(inplace=True)\t|    Modifies the array directly|    \n",
    "|    Detect system\t|    np.little_endian\t|    True for little-endian|    "
   ]
  }
 ],
 "metadata": {
  "kernelspec": {
   "display_name": "Python 3",
   "language": "python",
   "name": "python3"
  },
  "language_info": {
   "codemirror_mode": {
    "name": "ipython",
    "version": 3
   },
   "file_extension": ".py",
   "mimetype": "text/x-python",
   "name": "python",
   "nbconvert_exporter": "python",
   "pygments_lexer": "ipython3",
   "version": "3.8.10"
  }
 },
 "nbformat": 4,
 "nbformat_minor": 2
}

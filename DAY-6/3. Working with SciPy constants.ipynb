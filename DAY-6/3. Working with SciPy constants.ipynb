{
 "cells": [
  {
   "cell_type": "markdown",
   "metadata": {},
   "source": [
    "### 1. SciPy Constants (scipy.constants)\n",
    "This module provides access to physical and mathematical constants such as the speed of light, Planck’s constant, and fundamental charge. It also includes unit conversions."
   ]
  },
  {
   "cell_type": "markdown",
   "metadata": {},
   "source": [
    "#### 1.1 Common Constants"
   ]
  },
  {
   "cell_type": "code",
   "execution_count": 10,
   "metadata": {},
   "outputs": [
    {
     "name": "stdout",
     "output_type": "stream",
     "text": [
      "Speed of light (c): 299792458.0 m/s\n",
      "Planck's constant (h): 6.62607015e-34 J·s\n",
      "Elementary charge (e): 1.602176634e-19 C\n",
      "Gravitational constant (G): 6.6743e-11 m³/kg/s²\n",
      "Pi (π): 3.141592653589793\n"
     ]
    }
   ],
   "source": [
    "from scipy.constants import c, h, e, G, pi\n",
    "\n",
    "print(f\"Speed of light (c): {c} m/s\")\n",
    "print(f\"Planck's constant (h): {h} J·s\")\n",
    "print(f\"Elementary charge (e): {e} C\")\n",
    "print(f\"Gravitational constant (G): {G} m³/kg/s²\")\n",
    "print(f\"Pi (π): {pi}\")\n"
   ]
  },
  {
   "cell_type": "markdown",
   "metadata": {},
   "source": [
    "#### 1.2 Unit Conversion Functions\n",
    "SciPy provides functions for converting between different units of measurement."
   ]
  },
  {
   "cell_type": "code",
   "execution_count": 11,
   "metadata": {},
   "outputs": [
    {
     "name": "stdout",
     "output_type": "stream",
     "text": [
      "100°C in Kelvin: 373.15 K\n"
     ]
    }
   ],
   "source": [
    "from scipy.constants import convert_temperature\n",
    "\n",
    "temp_celsius = 100\n",
    "temp_kelvin = convert_temperature(temp_celsius, 'Celsius', 'Kelvin')\n",
    "print(f\"100°C in Kelvin: {temp_kelvin} K\")\n"
   ]
  },
  {
   "cell_type": "markdown",
   "metadata": {},
   "source": [
    "Other useful unit conversions:"
   ]
  },
  {
   "cell_type": "code",
   "execution_count": 12,
   "metadata": {},
   "outputs": [
    {
     "name": "stdout",
     "output_type": "stream",
     "text": [
      "1 kilowatt = 1000.0 watts\n",
      "1 millimeter = 0.001 meters\n",
      "1 megahertz = 1000000.0 hertz\n"
     ]
    }
   ],
   "source": [
    "from scipy.constants import kilo, mega, milli\n",
    "\n",
    "print(f\"1 kilowatt = {1 * kilo} watts\")\n",
    "print(f\"1 millimeter = {1 * milli} meters\")\n",
    "print(f\"1 megahertz = {1 * mega} hertz\")"
   ]
  },
  {
   "cell_type": "markdown",
   "metadata": {},
   "source": [
    "#### 1.3 Physical Constants Dictionary"
   ]
  },
  {
   "cell_type": "code",
   "execution_count": 13,
   "metadata": {},
   "outputs": [
    {
     "name": "stdout",
     "output_type": "stream",
     "text": [
      "(1.380649e-23, 'J K^-1', 0.0)\n"
     ]
    }
   ],
   "source": [
    "from scipy.constants import physical_constants\n",
    "\n",
    "print(physical_constants[\"Boltzmann constant\"])  # (value, unit, uncertainty)"
   ]
  },
  {
   "cell_type": "markdown",
   "metadata": {},
   "source": [
    "### 2. SciPy Special Functions (scipy.special)\n",
    "This module provides mathematical functions like Bessel functions, gamma functions, elliptic integrals, and more."
   ]
  },
  {
   "cell_type": "markdown",
   "metadata": {},
   "source": [
    "#### 2.1 Gamma and Beta Functions\n",
    "* Gamma function (Γ(x)) is an extension of the factorial function.\n",
    "\n",
    "* Beta function (B(x, y)) is related to the gamma function."
   ]
  },
  {
   "cell_type": "code",
   "execution_count": 14,
   "metadata": {},
   "outputs": [
    {
     "name": "stdout",
     "output_type": "stream",
     "text": [
      "Gamma(5): 24.0\n",
      "Beta(2, 3): 0.08333333333333333\n"
     ]
    }
   ],
   "source": [
    "from scipy.special import gamma, beta\n",
    "\n",
    "print(f\"Gamma(5): {gamma(5)}\")  # 4! = 24\n",
    "print(f\"Beta(2, 3): {beta(2, 3)}\")  # Related to integrals in probability\n"
   ]
  },
  {
   "cell_type": "markdown",
   "metadata": {},
   "source": [
    "#### 2.2 Error Function and Related Functions\n",
    "These functions are used in probability and statistics."
   ]
  },
  {
   "cell_type": "code",
   "execution_count": 15,
   "metadata": {},
   "outputs": [
    {
     "name": "stdout",
     "output_type": "stream",
     "text": [
      "erf(1): 0.8427007929497148\n",
      "erfc(1): 0.15729920705028516\n"
     ]
    }
   ],
   "source": [
    "from scipy.special import erf, erfc\n",
    "\n",
    "print(f\"erf(1): {erf(1)}\")  # Error function\n",
    "print(f\"erfc(1): {erfc(1)}\")  # Complementary error function"
   ]
  },
  {
   "cell_type": "markdown",
   "metadata": {},
   "source": [
    "#### 2.3 Bessel Functions\n",
    "Bessel functions arise in wave equations, electromagnetics, and fluid dynamics."
   ]
  },
  {
   "cell_type": "code",
   "execution_count": 16,
   "metadata": {},
   "outputs": [
    {
     "name": "stdout",
     "output_type": "stream",
     "text": [
      "Bessel function of first kind J1(2.5): 0.4970941024642741\n",
      "Bessel function of second kind Y1(2.5): 0.14591813796678577\n"
     ]
    }
   ],
   "source": [
    "from scipy.special import jn, yn\n",
    "\n",
    "x = 2.5\n",
    "n = 1  # Order\n",
    "print(f\"Bessel function of first kind J1(2.5): {jn(n, x)}\")\n",
    "print(f\"Bessel function of second kind Y1(2.5): {yn(n, x)}\")"
   ]
  },
  {
   "cell_type": "markdown",
   "metadata": {},
   "source": [
    "#### 2.4 Spherical Harmonics\n",
    "Used in quantum mechanics and electromagnetism."
   ]
  },
  {
   "cell_type": "code",
   "execution_count": 17,
   "metadata": {},
   "outputs": [
    {
     "name": "stdout",
     "output_type": "stream",
     "text": [
      "Spherical Harmonic Y(2,0): (-0.31539156525252005+0j)\n"
     ]
    }
   ],
   "source": [
    "from scipy.special import sph_harm\n",
    "\n",
    "m, n, theta, phi = 0, 2, pi / 4, pi / 2\n",
    "print(f\"Spherical Harmonic Y(2,0): {sph_harm(m, n, theta, phi)}\")"
   ]
  },
  {
   "cell_type": "markdown",
   "metadata": {},
   "source": [
    "#### 2.5 Laguerre and Legendre Polynomials\n",
    "* Laguerre polynomials are used in quantum mechanics (e.g., hydrogen atom solutions).\n",
    "\n",
    "* Legendre polynomials appear in physics and engineering problems."
   ]
  },
  {
   "cell_type": "code",
   "execution_count": 18,
   "metadata": {},
   "outputs": [
    {
     "name": "stdout",
     "output_type": "stream",
     "text": [
      "P2(0.5): -0.125\n",
      "Laguerre(3, 0.5): -0.14583333333333331\n"
     ]
    }
   ],
   "source": [
    "from scipy.special import legendre, eval_laguerre\n",
    "\n",
    "P2 = legendre(2)  # P2(x) = 1/2(3x² - 1)\n",
    "print(f\"P2(0.5): {P2(0.5)}\")\n",
    "\n",
    "print(f\"Laguerre(3, 0.5): {eval_laguerre(3, 0.5)}\")"
   ]
  }
 ],
 "metadata": {
  "kernelspec": {
   "display_name": "Python 3",
   "language": "python",
   "name": "python3"
  },
  "language_info": {
   "codemirror_mode": {
    "name": "ipython",
    "version": 3
   },
   "file_extension": ".py",
   "mimetype": "text/x-python",
   "name": "python",
   "nbconvert_exporter": "python",
   "pygments_lexer": "ipython3",
   "version": "3.8.10"
  }
 },
 "nbformat": 4,
 "nbformat_minor": 2
}

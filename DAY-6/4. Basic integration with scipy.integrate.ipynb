{
 "cells": [
  {
   "cell_type": "markdown",
   "metadata": {},
   "source": [
    "### 1.Single-variable integration (Quadrature)\n",
    "\n",
    "* quad, dblquad, tplquad: Compute definite integrals.\n",
    "\n",
    "* fixed_quad, quadrature: Fixed-order Gaussian quadrature.\n",
    "\n",
    "### 2.Multiple-variable integration\n",
    "\n",
    "* nquad: For n-dimensional integrals with adaptive integration.\n",
    "\n",
    "### 3.ODE Solvers (Differential Equations)\n",
    "\n",
    "* solve_ivp: General ODE solver with multiple methods (RK45, RK23, BDF, etc.).\n",
    "\n",
    "* odeint: Legacy solver for first-order ODEs (uses LSODA).\n",
    "\n"
   ]
  },
  {
   "cell_type": "markdown",
   "metadata": {},
   "source": [
    "## 1. Single-Variable Integration\n",
    "The quad function computes definite integrals using adaptive quadrature."
   ]
  },
  {
   "cell_type": "code",
   "execution_count": 8,
   "metadata": {},
   "outputs": [
    {
     "name": "stdout",
     "output_type": "stream",
     "text": [
      "Integral Result: 2.666666666666667, Estimated Error: 2.960594732333751e-14\n"
     ]
    }
   ],
   "source": [
    "from scipy.integrate import quad\n",
    "\n",
    "# Define function to integrate\n",
    "def f(x):\n",
    "    return x**2  # Simple function x^2\n",
    "\n",
    "# Integrate f(x) from 0 to 2\n",
    "result, error = quad(f, 0, 2)\n",
    "print(f\"Integral Result: {result}, Estimated Error: {error}\")"
   ]
  },
  {
   "cell_type": "markdown",
   "metadata": {},
   "source": [
    "### Breakdown:\n",
    "* quad(f, a, b): Integrates f(x) from a to b using adaptive quadrature.\n",
    "\n",
    "* Returns:\n",
    "\n",
    "    * The computed integral.\n",
    "\n",
    "    * An estimate of the numerical error."
   ]
  },
  {
   "cell_type": "markdown",
   "metadata": {},
   "source": [
    "### Handling Infinite Limits\n",
    "Use np.inf for improper integrals:"
   ]
  },
  {
   "cell_type": "code",
   "execution_count": 1,
   "metadata": {},
   "outputs": [
    {
     "name": "stdout",
     "output_type": "stream",
     "text": [
      "Integral Result: 1.0000000000000002\n"
     ]
    }
   ],
   "source": [
    "from scipy.integrate import quad\n",
    "import numpy as np\n",
    "\n",
    "result, error = quad(lambda x: np.exp(-x), 0, np.inf)\n",
    "print(f\"Integral Result: {result}\")  # Expected 1 (integral of e^(-x) from 0 to ∞)"
   ]
  },
  {
   "cell_type": "markdown",
   "metadata": {},
   "source": [
    "## 2. Multiple Integrals\n",
    "For double and triple integrals, use dblquad and tplquad."
   ]
  },
  {
   "cell_type": "code",
   "execution_count": 2,
   "metadata": {},
   "outputs": [
    {
     "name": "stdout",
     "output_type": "stream",
     "text": [
      "Double Integral Result: 9.0\n"
     ]
    }
   ],
   "source": [
    "from scipy.integrate import dblquad\n",
    "\n",
    "# Define function f(x, y)\n",
    "def f(x, y):\n",
    "    return x * y  # Example function\n",
    "\n",
    "# Integrate f(x, y) over x: [0, 2], y: [0, 3]\n",
    "result, error = dblquad(f, 0, 2, lambda x: 0, lambda x: 3)\n",
    "print(f\"Double Integral Result: {result}\")\n"
   ]
  },
  {
   "cell_type": "markdown",
   "metadata": {},
   "source": [
    "### Breakdown:\n",
    "* dblquad(f, a, b, gfun, hfun):\n",
    "\n",
    "   * Integrates f(x, y) where:\n",
    "\n",
    "      * x ranges from a to b.\n",
    "\n",
    "      * y ranges from gfun(x) to hfun(x), allowing dynamic limits.\n",
    "\n",
    "For triple integrals, use tplquad similarly."
   ]
  },
  {
   "cell_type": "markdown",
   "metadata": {},
   "source": [
    "### 3. General n-Dimensional Integration\n",
    "For more than 3 variables, use nquad."
   ]
  },
  {
   "cell_type": "code",
   "execution_count": 3,
   "metadata": {},
   "outputs": [
    {
     "name": "stdout",
     "output_type": "stream",
     "text": [
      "N-Dimensional Integral Result: 4.5\n"
     ]
    }
   ],
   "source": [
    "from scipy.integrate import nquad\n",
    "\n",
    "# Function with three variables\n",
    "def f(x, y, z):\n",
    "    return x * y * z\n",
    "\n",
    "# Integration limits\n",
    "limits = [[0, 1], [0, 2], [0, 3]]  # x in [0,1], y in [0,2], z in [0,3]\n",
    "\n",
    "result, error = nquad(f, limits)\n",
    "print(f\"N-Dimensional Integral Result: {result}\")\n"
   ]
  },
  {
   "cell_type": "markdown",
   "metadata": {},
   "source": [
    "## 4. Solving Ordinary Differential Equations (ODEs)\n",
    "### Using solve_ivp (Recommended)\n",
    "solve_ivp is a powerful function for solving first-order differential equations."
   ]
  },
  {
   "cell_type": "code",
   "execution_count": 4,
   "metadata": {},
   "outputs": [
    {
     "name": "stdout",
     "output_type": "stream",
     "text": [
      "Solution at t=5: 4.572378941563279e-05\n"
     ]
    }
   ],
   "source": [
    "from scipy.integrate import solve_ivp\n",
    "import numpy as np\n",
    "\n",
    "# Define the ODE dy/dx = -2y\n",
    "def ode(t, y):\n",
    "    return -2 * y\n",
    "\n",
    "# Solve from t=0 to t=5 with initial condition y(0)=1\n",
    "t_span = (0, 5)\n",
    "y0 = [1]  # Initial value\n",
    "\n",
    "solution = solve_ivp(ode, t_span, y0, t_eval=np.linspace(0, 5, 50))\n",
    "\n",
    "# Print the solution at t=5\n",
    "print(f\"Solution at t=5: {solution.y[0][-1]}\")\n"
   ]
  },
  {
   "cell_type": "markdown",
   "metadata": {},
   "source": [
    "### Plotting the Solution"
   ]
  },
  {
   "cell_type": "code",
   "execution_count": 5,
   "metadata": {},
   "outputs": [
    {
     "data": {
      "image/png": "[encoded data removed]",
      "text/plain": [
       "<Figure size 640x480 with 1 Axes>"
      ]
     },
     "metadata": {},
     "output_type": "display_data"
    }
   ],
   "source": [
    "import matplotlib.pyplot as plt\n",
    "\n",
    "plt.plot(solution.t, solution.y[0], label=\"y(t) = e^(-2t)\")\n",
    "plt.xlabel(\"Time (t)\")\n",
    "plt.ylabel(\"y(t)\")\n",
    "plt.legend()\n",
    "plt.grid()\n",
    "plt.show()"
   ]
  },
  {
   "cell_type": "markdown",
   "metadata": {},
   "source": [
    "### Choosing Different Solvers\n",
    "* RK45: Default, Runge-Kutta 4(5) (adaptive)\n",
    "\n",
    "* RK23: Lower-order Runge-Kutta\n",
    "\n",
    "* BDF: Implicit solver for stiff equations\n",
    "\n",
    "* LSODA: Auto-switching stiff/non-stiff solver"
   ]
  },
  {
   "cell_type": "code",
   "execution_count": 6,
   "metadata": {},
   "outputs": [],
   "source": [
    "solution = solve_ivp(ode, t_span, y0, method=\"BDF\")\n"
   ]
  },
  {
   "cell_type": "markdown",
   "metadata": {},
   "source": [
    "## 5. Using odeint (Legacy)\n",
    "Older approach using odeint:"
   ]
  },
  {
   "cell_type": "code",
   "execution_count": 7,
   "metadata": {},
   "outputs": [],
   "source": [
    "from scipy.integrate import odeint\n",
    "\n",
    "# Define ODE function\n",
    "def ode(y, t):\n",
    "    return -2 * y\n",
    "\n",
    "t = np.linspace(0, 5, 50)\n",
    "y0 = [1]  # Initial condition\n",
    "\n",
    "solution = odeint(ode, y0, t)\n"
   ]
  },
  {
   "cell_type": "markdown",
   "metadata": {},
   "source": [
    "### Why solve_ivp over odeint?\n",
    "\n",
    "* solve_ivp supports event detection and better solvers.\n",
    "\n",
    "* odeint is based on LSODA and doesn't support dense output."
   ]
  },
  {
   "cell_type": "markdown",
   "metadata": {},
   "source": []
  }
 ],
 "metadata": {
  "kernelspec": {
   "display_name": "Python 3",
   "language": "python",
   "name": "python3"
  },
  "language_info": {
   "codemirror_mode": {
    "name": "ipython",
    "version": 3
   },
   "file_extension": ".py",
   "mimetype": "text/x-python",
   "name": "python",
   "nbconvert_exporter": "python",
   "pygments_lexer": "ipython3",
   "version": "3.8.10"
  }
 },
 "nbformat": 4,
 "nbformat_minor": 2
}
